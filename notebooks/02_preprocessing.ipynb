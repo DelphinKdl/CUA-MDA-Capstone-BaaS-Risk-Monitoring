{
 "cells": [
  {
   "cell_type": "code",
   "execution_count": 1,
   "id": "04d99e7a",
   "metadata": {},
   "outputs": [],
   "source": [
    "import pandas as pd\n",
    "import numpy as np\n",
    "\n",
    "import matplotlib.pyplot as plt\n",
    "import seaborn as sns\n",
    "\n",
    "\n",
    "import warnings\n",
    "warnings.filterwarnings('ignore')"
   ]
  },
  {
   "cell_type": "code",
   "execution_count": null,
   "id": "3dbfde5e",
   "metadata": {},
   "outputs": [],
   "source": [
    "df = pd.read_parquet(\"../data/Bronze/cleaned_HI-Medium_Trans.parquet\")\n",
    "# df = pd.read_parquet(\"s3://bass-risk-monitoring/Bronze/cleaned_HI-Medium_Trans.parquet\") "
   ]
  },
  {
   "cell_type": "code",
   "execution_count": 6,
   "id": "6b68432e",
   "metadata": {},
   "outputs": [
    {
     "data": {
      "text/html": [
       "<div>\n",
       "<style scoped>\n",
       "    .dataframe tbody tr th:only-of-type {\n",
       "        vertical-align: middle;\n",
       "    }\n",
       "\n",
       "    .dataframe tbody tr th {\n",
       "        vertical-align: top;\n",
       "    }\n",
       "\n",
       "    .dataframe thead th {\n",
       "        text-align: right;\n",
       "    }\n",
       "</style>\n",
       "<table border=\"1\" class=\"dataframe\">\n",
       "  <thead>\n",
       "    <tr style=\"text-align: right;\">\n",
       "      <th></th>\n",
       "      <th>Timestamp</th>\n",
       "      <th>From Bank</th>\n",
       "      <th>Account</th>\n",
       "      <th>To Bank</th>\n",
       "      <th>Account.1</th>\n",
       "      <th>Amount Received</th>\n",
       "      <th>Receiving Currency</th>\n",
       "      <th>Amount Paid</th>\n",
       "      <th>Payment Currency</th>\n",
       "      <th>Payment Format</th>\n",
       "      <th>Is Laundering</th>\n",
       "      <th>date</th>\n",
       "      <th>hour</th>\n",
       "    </tr>\n",
       "  </thead>\n",
       "  <tbody>\n",
       "    <tr>\n",
       "      <th>0</th>\n",
       "      <td>2022-09-01 00:17:00</td>\n",
       "      <td>20</td>\n",
       "      <td>800104D70</td>\n",
       "      <td>20</td>\n",
       "      <td>800104D70</td>\n",
       "      <td>6794.63</td>\n",
       "      <td>US Dollar</td>\n",
       "      <td>6794.63</td>\n",
       "      <td>US Dollar</td>\n",
       "      <td>Reinvestment</td>\n",
       "      <td>0</td>\n",
       "      <td>2022-09-01</td>\n",
       "      <td>0</td>\n",
       "    </tr>\n",
       "    <tr>\n",
       "      <th>1</th>\n",
       "      <td>2022-09-01 00:02:00</td>\n",
       "      <td>3196</td>\n",
       "      <td>800107150</td>\n",
       "      <td>3196</td>\n",
       "      <td>800107150</td>\n",
       "      <td>7739.29</td>\n",
       "      <td>US Dollar</td>\n",
       "      <td>7739.29</td>\n",
       "      <td>US Dollar</td>\n",
       "      <td>Reinvestment</td>\n",
       "      <td>0</td>\n",
       "      <td>2022-09-01</td>\n",
       "      <td>0</td>\n",
       "    </tr>\n",
       "  </tbody>\n",
       "</table>\n",
       "</div>"
      ],
      "text/plain": [
       "            Timestamp  From Bank    Account  To Bank  Account.1  \\\n",
       "0 2022-09-01 00:17:00         20  800104D70       20  800104D70   \n",
       "1 2022-09-01 00:02:00       3196  800107150     3196  800107150   \n",
       "\n",
       "   Amount Received Receiving Currency  Amount Paid Payment Currency  \\\n",
       "0          6794.63          US Dollar      6794.63        US Dollar   \n",
       "1          7739.29          US Dollar      7739.29        US Dollar   \n",
       "\n",
       "  Payment Format  Is Laundering        date  hour  \n",
       "0   Reinvestment              0  2022-09-01     0  \n",
       "1   Reinvestment              0  2022-09-01     0  "
      ]
     },
     "execution_count": 6,
     "metadata": {},
     "output_type": "execute_result"
    }
   ],
   "source": [
    "df.head(2)"
   ]
  },
  {
   "cell_type": "code",
   "execution_count": 7,
   "id": "375dd31b",
   "metadata": {},
   "outputs": [
    {
     "data": {
      "text/plain": [
       "(31898218, 13)"
      ]
     },
     "execution_count": 7,
     "metadata": {},
     "output_type": "execute_result"
    }
   ],
   "source": [
    "df.shape"
   ]
  },
  {
   "cell_type": "markdown",
   "id": "38d01b1a",
   "metadata": {},
   "source": [
    "Feature engineering\n"
   ]
  },
  {
   "cell_type": "code",
   "execution_count": 8,
   "id": "1324a5a5",
   "metadata": {},
   "outputs": [
    {
     "data": {
      "text/plain": [
       "Timestamp             datetime64[ns]\n",
       "From Bank                      int64\n",
       "Account                       object\n",
       "To Bank                        int64\n",
       "Account.1                     object\n",
       "Amount Received              float64\n",
       "Receiving Currency          category\n",
       "Amount Paid                  float64\n",
       "Payment Currency            category\n",
       "Payment Format              category\n",
       "Is Laundering                  int64\n",
       "date                          object\n",
       "hour                           int32\n",
       "dtype: object"
      ]
     },
     "execution_count": 8,
     "metadata": {},
     "output_type": "execute_result"
    }
   ],
   "source": [
    "df.dtypes"
   ]
  },
  {
   "cell_type": "code",
   "execution_count": null,
   "id": "ff946687",
   "metadata": {},
   "outputs": [],
   "source": [
    "# time features\n",
    "df['day_of_week'] = pd.to_datetime(df['Timestamp']).dt.dayofweek     # 0 = Mon\n",
    "df['is_weekend']  = (df['day_of_week'] >= 5).astype('int8')    \n",
    "df['month']       = pd.to_datetime(df['Timestamp']).dt.month"
   ]
  },
  {
   "cell_type": "code",
   "execution_count": 11,
   "id": "50d2ed95",
   "metadata": {},
   "outputs": [
    {
     "data": {
      "text/html": [
       "<div>\n",
       "<style scoped>\n",
       "    .dataframe tbody tr th:only-of-type {\n",
       "        vertical-align: middle;\n",
       "    }\n",
       "\n",
       "    .dataframe tbody tr th {\n",
       "        vertical-align: top;\n",
       "    }\n",
       "\n",
       "    .dataframe thead th {\n",
       "        text-align: right;\n",
       "    }\n",
       "</style>\n",
       "<table border=\"1\" class=\"dataframe\">\n",
       "  <thead>\n",
       "    <tr style=\"text-align: right;\">\n",
       "      <th></th>\n",
       "      <th>Timestamp</th>\n",
       "      <th>From Bank</th>\n",
       "      <th>Account</th>\n",
       "      <th>To Bank</th>\n",
       "      <th>Account.1</th>\n",
       "      <th>Amount Received</th>\n",
       "      <th>Receiving Currency</th>\n",
       "      <th>Amount Paid</th>\n",
       "      <th>Payment Currency</th>\n",
       "      <th>Payment Format</th>\n",
       "      <th>Is Laundering</th>\n",
       "      <th>date</th>\n",
       "      <th>hour</th>\n",
       "      <th>day_of_week</th>\n",
       "      <th>is_weekend</th>\n",
       "      <th>month</th>\n",
       "      <th>log_amount_paid</th>\n",
       "      <th>log_amount_received</th>\n",
       "    </tr>\n",
       "  </thead>\n",
       "  <tbody>\n",
       "    <tr>\n",
       "      <th>0</th>\n",
       "      <td>2022-09-01 00:17:00</td>\n",
       "      <td>20</td>\n",
       "      <td>800104D70</td>\n",
       "      <td>20</td>\n",
       "      <td>800104D70</td>\n",
       "      <td>6.794630e+03</td>\n",
       "      <td>US Dollar</td>\n",
       "      <td>6.794630e+03</td>\n",
       "      <td>US Dollar</td>\n",
       "      <td>Reinvestment</td>\n",
       "      <td>0</td>\n",
       "      <td>2022-09-01</td>\n",
       "      <td>0</td>\n",
       "      <td>3</td>\n",
       "      <td>0</td>\n",
       "      <td>9</td>\n",
       "      <td>8.824035</td>\n",
       "      <td>8.824035</td>\n",
       "    </tr>\n",
       "    <tr>\n",
       "      <th>1</th>\n",
       "      <td>2022-09-01 00:02:00</td>\n",
       "      <td>3196</td>\n",
       "      <td>800107150</td>\n",
       "      <td>3196</td>\n",
       "      <td>800107150</td>\n",
       "      <td>7.739290e+03</td>\n",
       "      <td>US Dollar</td>\n",
       "      <td>7.739290e+03</td>\n",
       "      <td>US Dollar</td>\n",
       "      <td>Reinvestment</td>\n",
       "      <td>0</td>\n",
       "      <td>2022-09-01</td>\n",
       "      <td>0</td>\n",
       "      <td>3</td>\n",
       "      <td>0</td>\n",
       "      <td>9</td>\n",
       "      <td>8.954194</td>\n",
       "      <td>8.954194</td>\n",
       "    </tr>\n",
       "    <tr>\n",
       "      <th>2</th>\n",
       "      <td>2022-09-01 00:17:00</td>\n",
       "      <td>1208</td>\n",
       "      <td>80010E430</td>\n",
       "      <td>1208</td>\n",
       "      <td>80010E430</td>\n",
       "      <td>1.880230e+03</td>\n",
       "      <td>US Dollar</td>\n",
       "      <td>1.880230e+03</td>\n",
       "      <td>US Dollar</td>\n",
       "      <td>Reinvestment</td>\n",
       "      <td>0</td>\n",
       "      <td>2022-09-01</td>\n",
       "      <td>0</td>\n",
       "      <td>3</td>\n",
       "      <td>0</td>\n",
       "      <td>9</td>\n",
       "      <td>7.539681</td>\n",
       "      <td>7.539681</td>\n",
       "    </tr>\n",
       "    <tr>\n",
       "      <th>3</th>\n",
       "      <td>2022-09-01 00:03:00</td>\n",
       "      <td>1208</td>\n",
       "      <td>80010E650</td>\n",
       "      <td>20</td>\n",
       "      <td>80010E6F0</td>\n",
       "      <td>7.396688e+07</td>\n",
       "      <td>US Dollar</td>\n",
       "      <td>7.396688e+07</td>\n",
       "      <td>US Dollar</td>\n",
       "      <td>Cheque</td>\n",
       "      <td>0</td>\n",
       "      <td>2022-09-01</td>\n",
       "      <td>0</td>\n",
       "      <td>3</td>\n",
       "      <td>0</td>\n",
       "      <td>9</td>\n",
       "      <td>18.119128</td>\n",
       "      <td>18.119128</td>\n",
       "    </tr>\n",
       "    <tr>\n",
       "      <th>4</th>\n",
       "      <td>2022-09-01 00:02:00</td>\n",
       "      <td>1208</td>\n",
       "      <td>80010E650</td>\n",
       "      <td>20</td>\n",
       "      <td>80010EA30</td>\n",
       "      <td>4.586845e+07</td>\n",
       "      <td>US Dollar</td>\n",
       "      <td>4.586845e+07</td>\n",
       "      <td>US Dollar</td>\n",
       "      <td>Cheque</td>\n",
       "      <td>0</td>\n",
       "      <td>2022-09-01</td>\n",
       "      <td>0</td>\n",
       "      <td>3</td>\n",
       "      <td>0</td>\n",
       "      <td>9</td>\n",
       "      <td>17.641288</td>\n",
       "      <td>17.641288</td>\n",
       "    </tr>\n",
       "    <tr>\n",
       "      <th>...</th>\n",
       "      <td>...</td>\n",
       "      <td>...</td>\n",
       "      <td>...</td>\n",
       "      <td>...</td>\n",
       "      <td>...</td>\n",
       "      <td>...</td>\n",
       "      <td>...</td>\n",
       "      <td>...</td>\n",
       "      <td>...</td>\n",
       "      <td>...</td>\n",
       "      <td>...</td>\n",
       "      <td>...</td>\n",
       "      <td>...</td>\n",
       "      <td>...</td>\n",
       "      <td>...</td>\n",
       "      <td>...</td>\n",
       "      <td>...</td>\n",
       "      <td>...</td>\n",
       "    </tr>\n",
       "    <tr>\n",
       "      <th>31898213</th>\n",
       "      <td>2022-09-16 23:37:00</td>\n",
       "      <td>215117</td>\n",
       "      <td>84F680E11</td>\n",
       "      <td>223744</td>\n",
       "      <td>8521DCB81</td>\n",
       "      <td>5.675900e-02</td>\n",
       "      <td>Bitcoin</td>\n",
       "      <td>5.675900e-02</td>\n",
       "      <td>Bitcoin</td>\n",
       "      <td>Bitcoin</td>\n",
       "      <td>0</td>\n",
       "      <td>2022-09-16</td>\n",
       "      <td>23</td>\n",
       "      <td>4</td>\n",
       "      <td>0</td>\n",
       "      <td>9</td>\n",
       "      <td>0.055207</td>\n",
       "      <td>0.055207</td>\n",
       "    </tr>\n",
       "    <tr>\n",
       "      <th>31898214</th>\n",
       "      <td>2022-09-16 23:59:00</td>\n",
       "      <td>1209449</td>\n",
       "      <td>84E4F43D1</td>\n",
       "      <td>123</td>\n",
       "      <td>8521E3901</td>\n",
       "      <td>1.229300e-02</td>\n",
       "      <td>Bitcoin</td>\n",
       "      <td>1.229300e-02</td>\n",
       "      <td>Bitcoin</td>\n",
       "      <td>Bitcoin</td>\n",
       "      <td>0</td>\n",
       "      <td>2022-09-16</td>\n",
       "      <td>23</td>\n",
       "      <td>4</td>\n",
       "      <td>0</td>\n",
       "      <td>9</td>\n",
       "      <td>0.012218</td>\n",
       "      <td>0.012218</td>\n",
       "    </tr>\n",
       "    <tr>\n",
       "      <th>31898215</th>\n",
       "      <td>2022-09-16 23:47:00</td>\n",
       "      <td>214637</td>\n",
       "      <td>8521E8FF1</td>\n",
       "      <td>114</td>\n",
       "      <td>8521E8941</td>\n",
       "      <td>8.959400e-02</td>\n",
       "      <td>Bitcoin</td>\n",
       "      <td>8.959400e-02</td>\n",
       "      <td>Bitcoin</td>\n",
       "      <td>Bitcoin</td>\n",
       "      <td>0</td>\n",
       "      <td>2022-09-16</td>\n",
       "      <td>23</td>\n",
       "      <td>4</td>\n",
       "      <td>0</td>\n",
       "      <td>9</td>\n",
       "      <td>0.085805</td>\n",
       "      <td>0.085805</td>\n",
       "    </tr>\n",
       "    <tr>\n",
       "      <th>31898216</th>\n",
       "      <td>2022-09-16 23:38:00</td>\n",
       "      <td>114</td>\n",
       "      <td>8521E9E41</td>\n",
       "      <td>114</td>\n",
       "      <td>8521E8941</td>\n",
       "      <td>3.956390e-01</td>\n",
       "      <td>Bitcoin</td>\n",
       "      <td>3.956390e-01</td>\n",
       "      <td>Bitcoin</td>\n",
       "      <td>Bitcoin</td>\n",
       "      <td>0</td>\n",
       "      <td>2022-09-16</td>\n",
       "      <td>23</td>\n",
       "      <td>4</td>\n",
       "      <td>0</td>\n",
       "      <td>9</td>\n",
       "      <td>0.333352</td>\n",
       "      <td>0.333352</td>\n",
       "    </tr>\n",
       "    <tr>\n",
       "      <th>31898217</th>\n",
       "      <td>2022-09-16 23:34:00</td>\n",
       "      <td>220769</td>\n",
       "      <td>8519C3511</td>\n",
       "      <td>114</td>\n",
       "      <td>8521E8941</td>\n",
       "      <td>1.007210e-01</td>\n",
       "      <td>Bitcoin</td>\n",
       "      <td>1.007210e-01</td>\n",
       "      <td>Bitcoin</td>\n",
       "      <td>Bitcoin</td>\n",
       "      <td>0</td>\n",
       "      <td>2022-09-16</td>\n",
       "      <td>23</td>\n",
       "      <td>4</td>\n",
       "      <td>0</td>\n",
       "      <td>9</td>\n",
       "      <td>0.095965</td>\n",
       "      <td>0.095965</td>\n",
       "    </tr>\n",
       "  </tbody>\n",
       "</table>\n",
       "<p>31898218 rows × 18 columns</p>\n",
       "</div>"
      ],
      "text/plain": [
       "                   Timestamp  From Bank    Account  To Bank  Account.1  \\\n",
       "0        2022-09-01 00:17:00         20  800104D70       20  800104D70   \n",
       "1        2022-09-01 00:02:00       3196  800107150     3196  800107150   \n",
       "2        2022-09-01 00:17:00       1208  80010E430     1208  80010E430   \n",
       "3        2022-09-01 00:03:00       1208  80010E650       20  80010E6F0   \n",
       "4        2022-09-01 00:02:00       1208  80010E650       20  80010EA30   \n",
       "...                      ...        ...        ...      ...        ...   \n",
       "31898213 2022-09-16 23:37:00     215117  84F680E11   223744  8521DCB81   \n",
       "31898214 2022-09-16 23:59:00    1209449  84E4F43D1      123  8521E3901   \n",
       "31898215 2022-09-16 23:47:00     214637  8521E8FF1      114  8521E8941   \n",
       "31898216 2022-09-16 23:38:00        114  8521E9E41      114  8521E8941   \n",
       "31898217 2022-09-16 23:34:00     220769  8519C3511      114  8521E8941   \n",
       "\n",
       "          Amount Received Receiving Currency   Amount Paid Payment Currency  \\\n",
       "0            6.794630e+03          US Dollar  6.794630e+03        US Dollar   \n",
       "1            7.739290e+03          US Dollar  7.739290e+03        US Dollar   \n",
       "2            1.880230e+03          US Dollar  1.880230e+03        US Dollar   \n",
       "3            7.396688e+07          US Dollar  7.396688e+07        US Dollar   \n",
       "4            4.586845e+07          US Dollar  4.586845e+07        US Dollar   \n",
       "...                   ...                ...           ...              ...   \n",
       "31898213     5.675900e-02            Bitcoin  5.675900e-02          Bitcoin   \n",
       "31898214     1.229300e-02            Bitcoin  1.229300e-02          Bitcoin   \n",
       "31898215     8.959400e-02            Bitcoin  8.959400e-02          Bitcoin   \n",
       "31898216     3.956390e-01            Bitcoin  3.956390e-01          Bitcoin   \n",
       "31898217     1.007210e-01            Bitcoin  1.007210e-01          Bitcoin   \n",
       "\n",
       "         Payment Format  Is Laundering        date  hour  day_of_week  \\\n",
       "0          Reinvestment              0  2022-09-01     0            3   \n",
       "1          Reinvestment              0  2022-09-01     0            3   \n",
       "2          Reinvestment              0  2022-09-01     0            3   \n",
       "3                Cheque              0  2022-09-01     0            3   \n",
       "4                Cheque              0  2022-09-01     0            3   \n",
       "...                 ...            ...         ...   ...          ...   \n",
       "31898213        Bitcoin              0  2022-09-16    23            4   \n",
       "31898214        Bitcoin              0  2022-09-16    23            4   \n",
       "31898215        Bitcoin              0  2022-09-16    23            4   \n",
       "31898216        Bitcoin              0  2022-09-16    23            4   \n",
       "31898217        Bitcoin              0  2022-09-16    23            4   \n",
       "\n",
       "          is_weekend  month  log_amount_paid  log_amount_received  \n",
       "0                  0      9         8.824035             8.824035  \n",
       "1                  0      9         8.954194             8.954194  \n",
       "2                  0      9         7.539681             7.539681  \n",
       "3                  0      9        18.119128            18.119128  \n",
       "4                  0      9        17.641288            17.641288  \n",
       "...              ...    ...              ...                  ...  \n",
       "31898213           0      9         0.055207             0.055207  \n",
       "31898214           0      9         0.012218             0.012218  \n",
       "31898215           0      9         0.085805             0.085805  \n",
       "31898216           0      9         0.333352             0.333352  \n",
       "31898217           0      9         0.095965             0.095965  \n",
       "\n",
       "[31898218 rows x 18 columns]"
      ]
     },
     "execution_count": 11,
     "metadata": {},
     "output_type": "execute_result"
    }
   ],
   "source": [
    "df"
   ]
  },
  {
   "cell_type": "code",
   "execution_count": 12,
   "id": "2b830e0b",
   "metadata": {},
   "outputs": [
    {
     "data": {
      "text/plain": [
       "Index(['Timestamp', 'From Bank', 'Account', 'To Bank', 'Account.1',\n",
       "       'Amount Received', 'Receiving Currency', 'Amount Paid',\n",
       "       'Payment Currency', 'Payment Format', 'Is Laundering', 'date', 'hour',\n",
       "       'day_of_week', 'is_weekend', 'month', 'log_amount_paid',\n",
       "       'log_amount_received'],\n",
       "      dtype='object')"
      ]
     },
     "execution_count": 12,
     "metadata": {},
     "output_type": "execute_result"
    }
   ],
   "source": [
    "df.columns"
   ]
  },
  {
   "cell_type": "code",
   "execution_count": null,
   "id": "533f0dc4",
   "metadata": {},
   "outputs": [],
   "source": [
    "# Log amounts\n",
    "df['log_amount_paid']     = np.log1p(df['Amount Paid'])\n",
    "df['log_amount_received'] = np.log1p(df['Amount Received'])"
   ]
  },
  {
   "cell_type": "markdown",
   "id": "3e227c28",
   "metadata": {},
   "source": [
    "Insight: we add temporal signals and log-transform the heavy-tailed amounts."
   ]
  },
  {
   "cell_type": "markdown",
   "id": "979929d5",
   "metadata": {},
   "source": [
    "features & target\n",
    "\n"
   ]
  },
  {
   "cell_type": "code",
   "execution_count": 13,
   "id": "340afc2e",
   "metadata": {},
   "outputs": [],
   "source": [
    "TARGET = \"Is Laundering\"\n",
    "NUMERIC = [\"log_amount_paid\", \"log_amount_received\",\"hour\", \"day_of_week\", \"month\", \"is_weekend\"]\n",
    "CATEGORICAL = [\"Payment Currency\", \"Receiving Currency\", \"Payment Format\"]\n"
   ]
  },
  {
   "cell_type": "code",
   "execution_count": 14,
   "id": "208528c4",
   "metadata": {},
   "outputs": [
    {
     "name": "stdout",
     "output_type": "stream",
     "text": [
      "Model frame shape: (31898218, 10)\n"
     ]
    },
    {
     "data": {
      "text/html": [
       "<div>\n",
       "<style scoped>\n",
       "    .dataframe tbody tr th:only-of-type {\n",
       "        vertical-align: middle;\n",
       "    }\n",
       "\n",
       "    .dataframe tbody tr th {\n",
       "        vertical-align: top;\n",
       "    }\n",
       "\n",
       "    .dataframe thead th {\n",
       "        text-align: right;\n",
       "    }\n",
       "</style>\n",
       "<table border=\"1\" class=\"dataframe\">\n",
       "  <thead>\n",
       "    <tr style=\"text-align: right;\">\n",
       "      <th></th>\n",
       "      <th>log_amount_paid</th>\n",
       "      <th>log_amount_received</th>\n",
       "      <th>hour</th>\n",
       "      <th>day_of_week</th>\n",
       "      <th>month</th>\n",
       "      <th>is_weekend</th>\n",
       "      <th>Payment Currency</th>\n",
       "      <th>Receiving Currency</th>\n",
       "      <th>Payment Format</th>\n",
       "      <th>Is Laundering</th>\n",
       "    </tr>\n",
       "  </thead>\n",
       "  <tbody>\n",
       "    <tr>\n",
       "      <th>0</th>\n",
       "      <td>8.824035</td>\n",
       "      <td>8.824035</td>\n",
       "      <td>0</td>\n",
       "      <td>3</td>\n",
       "      <td>9</td>\n",
       "      <td>0</td>\n",
       "      <td>US Dollar</td>\n",
       "      <td>US Dollar</td>\n",
       "      <td>Reinvestment</td>\n",
       "      <td>0</td>\n",
       "    </tr>\n",
       "    <tr>\n",
       "      <th>1</th>\n",
       "      <td>8.954194</td>\n",
       "      <td>8.954194</td>\n",
       "      <td>0</td>\n",
       "      <td>3</td>\n",
       "      <td>9</td>\n",
       "      <td>0</td>\n",
       "      <td>US Dollar</td>\n",
       "      <td>US Dollar</td>\n",
       "      <td>Reinvestment</td>\n",
       "      <td>0</td>\n",
       "    </tr>\n",
       "  </tbody>\n",
       "</table>\n",
       "</div>"
      ],
      "text/plain": [
       "   log_amount_paid  log_amount_received  hour  day_of_week  month  is_weekend  \\\n",
       "0         8.824035             8.824035     0            3      9           0   \n",
       "1         8.954194             8.954194     0            3      9           0   \n",
       "\n",
       "  Payment Currency Receiving Currency Payment Format  Is Laundering  \n",
       "0        US Dollar          US Dollar   Reinvestment              0  \n",
       "1        US Dollar          US Dollar   Reinvestment              0  "
      ]
     },
     "execution_count": 14,
     "metadata": {},
     "output_type": "execute_result"
    }
   ],
   "source": [
    "\n",
    "use_cols = NUMERIC + CATEGORICAL + [TARGET]\n",
    "df = df[use_cols].copy()\n",
    "\n",
    "print(\"Model frame shape:\", df.shape)\n",
    "df.head(2)"
   ]
  },
  {
   "cell_type": "markdown",
   "id": "fe62b802",
   "metadata": {},
   "source": [
    "\n",
    "we now have a clean, with only relevant numeric, categorical, and target columns, ready for preprocessing.\n",
    "\n"
   ]
  },
  {
   "cell_type": "markdown",
   "id": "b37cd5e2",
   "metadata": {},
   "source": [
    "Train/Val/Test Split 60/20/20 "
   ]
  },
  {
   "cell_type": "code",
   "execution_count": 15,
   "id": "1e1482fa",
   "metadata": {},
   "outputs": [
    {
     "name": "stdout",
     "output_type": "stream",
     "text": [
      "Train shape: (19138930, 9) Target dist: 0.0011044504577842125\n",
      "Val shape: (6379644, 9) Target dist: 0.0011044503423702013\n",
      "Test shape: (6379644, 9) Target dist: 0.0011044503423702013\n"
     ]
    }
   ],
   "source": [
    "from sklearn.model_selection import train_test_split\n",
    "\n",
    "# features & target\n",
    "X = df.drop(columns=[TARGET])\n",
    "y = df[TARGET]\n",
    "\n",
    "# first split: train (60%) vs temp (40%)\n",
    "X_train, X_temp, y_train, y_temp = train_test_split(\n",
    "    X, y,\n",
    "    test_size=0.40,\n",
    "    stratify=y,\n",
    "    random_state=42\n",
    ")\n",
    "\n",
    "# second split: validate (20%) vs test (20%)\n",
    "X_val, X_test, y_val, y_test = train_test_split(\n",
    "    X_temp, y_temp,\n",
    "    test_size=0.50,  \n",
    "    stratify=y_temp,\n",
    "    random_state=42\n",
    ")\n",
    "\n",
    "print(\"Train shape:\", X_train.shape, \"Target dist:\", y_train.mean())\n",
    "print(\"Val shape:\", X_val.shape, \"Target dist:\", y_val.mean())\n",
    "print(\"Test shape:\", X_test.shape, \"Target dist:\", y_test.mean())\n"
   ]
  },
  {
   "cell_type": "markdown",
   "id": "2f175821",
   "metadata": {},
   "source": [
    "All splits preserve the same class imbalance ratio as the full dataset."
   ]
  },
  {
   "cell_type": "markdown",
   "id": "395be829",
   "metadata": {},
   "source": [
    "encoder & scaler"
   ]
  },
  {
   "cell_type": "code",
   "execution_count": null,
   "id": "b528eb10",
   "metadata": {},
   "outputs": [
    {
     "name": "stdout",
     "output_type": "stream",
     "text": [
      "Numeric feats: 6  | encoder feats: 37  | Total ~= 43\n"
     ]
    }
   ],
   "source": [
    "# from sklearn.preprocessing import StandardScaler, LabelEncoder\n",
    "from sklearn.preprocessing import OneHotEncoder, StandardScaler\n",
    "from sklearn.compose import ColumnTransformer \n",
    "\n",
    "encoder = OneHotEncoder() \n",
    "scaler = StandardScaler(with_mean=False) \n",
    "\n",
    "preprocessor = ColumnTransformer(\n",
    "    transformers=[\n",
    "        (\"num\", scaler, NUMERIC),\n",
    "        (\"cat\", encoder,   CATEGORICAL),\n",
    "    ],\n",
    "    remainder=\"drop\",\n",
    "    sparse_threshold=1.0\n",
    ")\n",
    "\n",
    "preprocessor.fit(X_train)\n",
    "\n",
    "encoder_names = preprocessor.named_transformers_[\"cat\"].get_feature_names_out(CATEGORICAL).tolist()\n",
    "print(\"Numeric feats:\", len(NUMERIC), \" | encoder feats:\", len(encoder_names), \" | Total ~=\", len(NUMERIC)+len(encoder_names))\n"
   ]
  },
  {
   "cell_type": "markdown",
   "id": "823ae9c4",
   "metadata": {},
   "source": [
    "transform to matrices"
   ]
  },
  {
   "cell_type": "code",
   "execution_count": 19,
   "id": "04cafcfe",
   "metadata": {},
   "outputs": [
    {
     "name": "stdout",
     "output_type": "stream",
     "text": [
      "X_train_mat: (19138930, 43)\n",
      "X_val_mat:   (6379644, 43)\n",
      "X_test_mat:  (6379644, 43)\n"
     ]
    }
   ],
   "source": [
    "# all splits\n",
    "X_train_mat = preprocessor.transform(X_train)\n",
    "X_val_mat   = preprocessor.transform(X_val)\n",
    "X_test_mat  = preprocessor.transform(X_test)\n",
    "\n",
    "print(\"X_train_mat:\", X_train_mat.shape)\n",
    "print(\"X_val_mat:  \", X_val_mat.shape)\n",
    "print(\"X_test_mat: \", X_test_mat.shape)"
   ]
  },
  {
   "cell_type": "code",
   "execution_count": null,
   "id": "fe330c19",
   "metadata": {},
   "outputs": [
    {
     "data": {
      "text/plain": [
       "{0: 0.5005528358086541, 1: 452.71383290755983}"
      ]
     },
     "execution_count": 20,
     "metadata": {},
     "output_type": "execute_result"
    }
   ],
   "source": [
    "from sklearn.utils.class_weight import compute_class_weight\n",
    "\n",
    "classes = np.array([0, 1], dtype=\"int8\")\n",
    "weights = compute_class_weight(class_weight=\"balanced\", classes=classes, y=y_train)\n",
    "CLASS_WEIGHT = {int(c): float(w) for c, w in zip(classes, weights)}\n",
    "CLASS_WEIGHT"
   ]
  },
  {
   "cell_type": "markdown",
   "id": "33e32115",
   "metadata": {},
   "source": [
    "Insight:\n",
    "- Class 0 (Not Laundering) =  0.5, each negative counts half as much.\n",
    "\n",
    "- Class 1 (Laundering) = 452.7: each positive counts 453× more.\n",
    "\n",
    "This reweights the loss so the model can’t ignore the rare class (0.11%), but model learns patterns that catch laundering, improving recall (and PR-AUC)."
   ]
  },
  {
   "cell_type": "markdown",
   "id": "7bf13ca7",
   "metadata": {},
   "source": [
    "We handled the extreme class imbalance using `class weights`   instead of `resampling`, giving laundering cases 453× more importance in the loss function.\n",
    "\n",
    " This preserved all data, avoided uplication, and forced the model to learn from the minority class."
   ]
  },
  {
   "cell_type": "markdown",
   "id": "98a4485c",
   "metadata": {},
   "source": [
    "Save the preprocessor"
   ]
  },
  {
   "cell_type": "code",
   "execution_count": null,
   "id": "5b3e2c56",
   "metadata": {},
   "outputs": [],
   "source": [
    "# with a good network i will update the path to S3 bucket\n",
    "# features \n",
    "\n",
    "X_train.to_parquet(\"../data/Silver/X_train.parquet\", index=False)\n",
    "\n",
    "X_val.to_parquet(\"../data/Silver/X_val.parquet\", index=False)\n",
    "X_test.to_parquet(\"../data/Silver/X_test.parquet\", index=False)\n",
    "\n",
    "# labels\n",
    "y_train.to_frame().to_parquet(\"../data/Silver/y_train.parquet\", index=False)\n",
    "y_val.to_frame().to_parquet(\"../data/Silver/y_val.parquet\", index=False)\n",
    "y_test.to_frame().to_parquet(\"../data/Silver/y_test.parquet\", index=False)\n"
   ]
  },
  {
   "cell_type": "markdown",
   "id": "5d9b520c",
   "metadata": {},
   "source": [
    "Save the modeling components"
   ]
  },
  {
   "cell_type": "code",
   "execution_count": 27,
   "id": "77694305",
   "metadata": {},
   "outputs": [],
   "source": [
    "import joblib,  json\n",
    "\n",
    "# scaler and  encoder \n",
    "joblib.dump(preprocessor.named_transformers_[\"num\"], \"../data/Gold/scaler.joblib\")\n",
    "joblib.dump(preprocessor.named_transformers_[\"cat\"], \"../data/Gold/encoder.joblib\")\n",
    "\n",
    "# class weights\n",
    "with open(\"../data/Gold/class_weight.json\", \"w\") as f:\n",
    "    json.dump(CLASS_WEIGHT, f)"
   ]
  }
 ],
 "metadata": {
  "kernelspec": {
   "display_name": "Python 3",
   "language": "python",
   "name": "python3"
  },
  "language_info": {
   "codemirror_mode": {
    "name": "ipython",
    "version": 3
   },
   "file_extension": ".py",
   "mimetype": "text/x-python",
   "name": "python",
   "nbconvert_exporter": "python",
   "pygments_lexer": "ipython3",
   "version": "3.11.13"
  }
 },
 "nbformat": 4,
 "nbformat_minor": 5
}
